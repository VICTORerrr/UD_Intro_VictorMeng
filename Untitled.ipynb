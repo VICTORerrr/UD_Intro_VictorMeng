{
 "cells": [
  {
   "cell_type": "code",
   "execution_count": 1,
   "id": "81f68536",
   "metadata": {},
   "outputs": [
    {
     "name": "stdout",
     "output_type": "stream",
     "text": [
      "Requirement already satisfied: selenium in d:\\python 3.8\\envs\\ud\\lib\\site-packages (4.13.0)\n",
      "Requirement already satisfied: urllib3[socks]<3,>=1.26 in d:\\python 3.8\\envs\\ud\\lib\\site-packages (from selenium) (2.0.6)\n",
      "Requirement already satisfied: trio~=0.17 in d:\\python 3.8\\envs\\ud\\lib\\site-packages (from selenium) (0.22.2)\n",
      "Requirement already satisfied: trio-websocket~=0.9 in d:\\python 3.8\\envs\\ud\\lib\\site-packages (from selenium) (0.11.1)\n",
      "Requirement already satisfied: certifi>=2021.10.8 in d:\\python 3.8\\envs\\ud\\lib\\site-packages (from selenium) (2023.7.22)\n",
      "Requirement already satisfied: attrs>=20.1.0 in d:\\python 3.8\\envs\\ud\\lib\\site-packages (from trio~=0.17->selenium) (23.1.0)\n",
      "Requirement already satisfied: sortedcontainers in d:\\python 3.8\\envs\\ud\\lib\\site-packages (from trio~=0.17->selenium) (2.4.0)\n",
      "Requirement already satisfied: idna in d:\\python 3.8\\envs\\ud\\lib\\site-packages (from trio~=0.17->selenium) (3.4)\n",
      "Requirement already satisfied: outcome in d:\\python 3.8\\envs\\ud\\lib\\site-packages (from trio~=0.17->selenium) (1.2.0)\n",
      "Requirement already satisfied: sniffio in d:\\python 3.8\\envs\\ud\\lib\\site-packages (from trio~=0.17->selenium) (1.2.0)\n",
      "Requirement already satisfied: cffi>=1.14 in d:\\python 3.8\\envs\\ud\\lib\\site-packages (from trio~=0.17->selenium) (1.15.1)\n",
      "Requirement already satisfied: exceptiongroup>=1.0.0rc9 in d:\\python 3.8\\envs\\ud\\lib\\site-packages (from trio~=0.17->selenium) (1.1.3)\n",
      "Requirement already satisfied: wsproto>=0.14 in d:\\python 3.8\\envs\\ud\\lib\\site-packages (from trio-websocket~=0.9->selenium) (1.2.0)\n",
      "Requirement already satisfied: pysocks!=1.5.7,<2.0,>=1.5.6 in d:\\python 3.8\\envs\\ud\\lib\\site-packages (from urllib3[socks]<3,>=1.26->selenium) (1.7.1)\n",
      "Requirement already satisfied: pycparser in d:\\python 3.8\\envs\\ud\\lib\\site-packages (from cffi>=1.14->trio~=0.17->selenium) (2.21)\n",
      "Requirement already satisfied: h11<1,>=0.9.0 in d:\\python 3.8\\envs\\ud\\lib\\site-packages (from wsproto>=0.14->trio-websocket~=0.9->selenium) (0.14.0)\n",
      "Note: you may need to restart the kernel to use updated packages.\n"
     ]
    }
   ],
   "source": [
    "pip install selenium"
   ]
  },
  {
   "cell_type": "code",
   "execution_count": 2,
   "id": "dc024ad0",
   "metadata": {},
   "outputs": [],
   "source": [
    "import selenium\n",
    "from selenium import webdriver\n",
    "\n",
    "driver=webdriver.Chrome()\n",
    "\n",
    "driver.get('https://google.com')\n",
    "#Chrome opens with an additional alert message on top\n",
    "#driver.quit()"
   ]
  },
  {
   "cell_type": "code",
   "execution_count": 3,
   "id": "e3f9a5b9",
   "metadata": {},
   "outputs": [
    {
     "name": "stdout",
     "output_type": "stream",
     "text": [
      "Google\n"
     ]
    }
   ],
   "source": [
    "print(driver.title)"
   ]
  },
  {
   "cell_type": "code",
   "execution_count": 4,
   "id": "518f458e",
   "metadata": {},
   "outputs": [],
   "source": [
    "# Import Selenium and its sub libraries\n",
    "import selenium \n",
    "from selenium import webdriver\n",
    "from selenium.webdriver.common.by import By\n",
    "from selenium.webdriver.common.keys import Keys\n",
    "from selenium.webdriver.support.ui import Select\n",
    "from selenium.webdriver.support.ui import WebDriverWait\n",
    "from selenium.webdriver.support import expected_conditions as EC\n",
    "from time import sleep\n",
    "import re"
   ]
  },
  {
   "cell_type": "code",
   "execution_count": 5,
   "id": "633aaee8",
   "metadata": {},
   "outputs": [],
   "source": [
    "url=\"https://www.sasaki.com/projects/?refinementList%5Bservice%5D%5B0%5D=Landscape+Architecture\""
   ]
  },
  {
   "cell_type": "code",
   "execution_count": 6,
   "id": "7cdc0ac8",
   "metadata": {},
   "outputs": [],
   "source": [
    "driver = webdriver.Chrome()\n",
    "driver.get(url)\n"
   ]
  },
  {
   "cell_type": "code",
   "execution_count": 7,
   "id": "5e543ba1",
   "metadata": {},
   "outputs": [],
   "source": [
    "#Step 1: identify search box\n",
    "search_query = driver.find_element(\"id\",\"algolia-searchbox\")\n",
    "\n",
    "\n",
    "#Step 2: search a topic\n",
    "search_query.send_keys('Park')\n",
    "search_query.send_keys(Keys.RETURN)"
   ]
  },
  {
   "cell_type": "code",
   "execution_count": 8,
   "id": "46973450",
   "metadata": {},
   "outputs": [],
   "source": [
    "sleep(5)"
   ]
  },
  {
   "cell_type": "code",
   "execution_count": 9,
   "id": "ea7be781",
   "metadata": {},
   "outputs": [],
   "source": [
    "#Create lists\n",
    "project_list = []\n",
    "location_list=[]\n",
    "link_list=[]\n",
    "image_list=[]"
   ]
  },
  {
   "cell_type": "code",
   "execution_count": 2,
   "id": "05456a8b",
   "metadata": {},
   "outputs": [
    {
     "ename": "SyntaxError",
     "evalue": "unexpected EOF while parsing (2434967882.py, line 33)",
     "output_type": "error",
     "traceback": [
      "\u001b[1;36m  Cell \u001b[1;32mIn[2], line 33\u001b[1;36m\u001b[0m\n\u001b[1;33m    \u001b[0m\n\u001b[1;37m    ^\u001b[0m\n\u001b[1;31mSyntaxError\u001b[0m\u001b[1;31m:\u001b[0m unexpected EOF while parsing\n"
     ]
    }
   ],
   "source": [
    "def extract_page_data(driver):\n",
    "    \n",
    "    projects=driver.find_elements(\"class name\", \"tease tease--project\")\n",
    "    #print(len(books))\n",
    "\n",
    "    #Create loop to itterate on the list\n",
    "    for b in range(len(projects)):\n",
    "        try:          \n",
    "            #Extracting title\n",
    "            title = projects[b].find_element(\"class name\",\"tease-title\").text\n",
    "            print(title)\n",
    "        \n",
    "            #Extraction of authors\n",
    "            locations=projects[b].find_element(\"class name\",\"tease-location\").text\n",
    "            print(authors)\n",
    "        \n",
    "            #Extraction of link\n",
    "            link = projects[b].find_element(\"link text\",title).get_attribute('href')\n",
    "            #print(link)\n",
    "        \n",
    "                  \n",
    "            #Add item to the respective lists\n",
    "            project_list.append(title)\n",
    "            \n",
    "           \n",
    "            location_list.append(locations)\n",
    "            link_list.append(link)\n",
    "            sleep(2)  \n",
    "        \n",
    "      \n",
    "        \n",
    "       \n",
    "            "
   ]
  },
  {
   "cell_type": "code",
   "execution_count": 11,
   "id": "bf94a4c8",
   "metadata": {},
   "outputs": [],
   "source": [
    "extract_page_data(driver)"
   ]
  },
  {
   "cell_type": "code",
   "execution_count": 12,
   "id": "5c0cc9cf",
   "metadata": {},
   "outputs": [
    {
     "name": "stdout",
     "output_type": "stream",
     "text": [
      "[]\n"
     ]
    }
   ],
   "source": [
    "print(project_list)"
   ]
  },
  {
   "cell_type": "code",
   "execution_count": 13,
   "id": "1f4b3d81",
   "metadata": {},
   "outputs": [],
   "source": [
    "import csv"
   ]
  },
  {
   "cell_type": "code",
   "execution_count": 23,
   "id": "18d2edce",
   "metadata": {},
   "outputs": [],
   "source": [
    "\n",
    "\n",
    "for page_num in range(0,3):\n",
    "    \n",
    "    extract_page_data(driver)\n",
    "    \n",
    "    driver.find_element(\"xpath\",\"//*[@id='pagination']/div[3]\").click()\n",
    "\n",
    "\n",
    "\n",
    "driver.quit()"
   ]
  },
  {
   "cell_type": "code",
   "execution_count": 24,
   "id": "dba94253",
   "metadata": {},
   "outputs": [],
   "source": [
    "date = zip(project_list,location_list,link_list)"
   ]
  },
  {
   "cell_type": "code",
   "execution_count": 37,
   "id": "847edef7",
   "metadata": {},
   "outputs": [
    {
     "ename": "ModuleNotFoundError",
     "evalue": "No module named 'requests'",
     "output_type": "error",
     "traceback": [
      "\u001b[1;31m---------------------------------------------------------------------------\u001b[0m",
      "\u001b[1;31mModuleNotFoundError\u001b[0m                       Traceback (most recent call last)",
      "Cell \u001b[1;32mIn[37], line 1\u001b[0m\n\u001b[1;32m----> 1\u001b[0m \u001b[38;5;28;01mimport\u001b[39;00m \u001b[38;5;21;01mrequests\u001b[39;00m\n\u001b[0;32m      3\u001b[0m \u001b[38;5;66;03m#Write only links to a csv\u001b[39;00m\n\u001b[0;32m      4\u001b[0m \u001b[38;5;28;01mwith\u001b[39;00m \u001b[38;5;28mopen\u001b[39m(\u001b[38;5;124m'\u001b[39m\u001b[38;5;124monlylinks.csv\u001b[39m\u001b[38;5;124m'\u001b[39m, \u001b[38;5;124m'\u001b[39m\u001b[38;5;124mr\u001b[39m\u001b[38;5;124m'\u001b[39m,encoding\u001b[38;5;241m=\u001b[39m\u001b[38;5;124m'\u001b[39m\u001b[38;5;124mutf-8\u001b[39m\u001b[38;5;124m'\u001b[39m) \u001b[38;5;28;01mas\u001b[39;00m file: \n",
      "\u001b[1;31mModuleNotFoundError\u001b[0m: No module named 'requests'"
     ]
    }
   ],
   "source": [
    "import requests\n",
    "\n",
    "#Write only links to a csv\n",
    "with open('onlylinks.csv', 'r',encoding='utf-8') as file: \n",
    "    csvreader = csv.reader(file)\n",
    "    \n",
    "    for url in csvreader:\n",
    "        print(url[0])  \n",
    "        \n",
    "        driver = webdriver.Chrome()\n",
    "        \n",
    "        for url in csvreader:\n",
    "            driver.get(url[0])\n",
    "            sleep(5)\n",
    "            \n",
    "            \n",
    "            find_image = driver.find_element(\"xpath\",\"//*[@id='content']/div/section[1]/div[2]/figure/img\").get_attribute('href')\n",
    "            \n",
    "            print(find_image)\n",
    "            \n",
    "            i=0\n",
    "            \n",
    "            if ('.jpg' in find_image):\n",
    "                i += 1\n",
    "                print('downloading file:',i)\n",
    "                \n",
    "                response = requests.get(find_image)\n",
    "                \n",
    "                image = open(\"image\"+str(i)+\".jpg\", 'wb')\n",
    "                image.write(response.content)\n",
    "                image.close()"
   ]
  },
  {
   "cell_type": "code",
   "execution_count": null,
   "id": "4b7b78da",
   "metadata": {},
   "outputs": [],
   "source": [
    " try:\n",
    "            #Extraction of pdf\n",
    "            pdf= books[b].find_element(\"xpath\",\".//a[(@title = 'Read ebook from Internet Archive')]\").get_attribute('href')\n",
    "            #print(pdf) \n",
    "            pdf_list.append(pdf)\n",
    "        except:\n",
    "            pdf_list.append(\"NONE\")\n",
    "            continue\n",
    "                       "
   ]
  },
  {
   "cell_type": "code",
   "execution_count": null,
   "id": "026f144c",
   "metadata": {},
   "outputs": [],
   "source": [
    "# Not all items have pdf\n",
    "        try:\n",
    "            #Extraction of pdf\n",
    "            pdf= books[b].find_element(\"xpath\",\".//a[(@title = 'Read ebook from Internet Archive')]\").get_attribute('href')\n",
    "            #print(pdf) \n",
    "            pdf_list.append(pdf)\n",
    "        except:\n",
    "            pdf_list.append(\"NONE\")\n",
    "            continue"
   ]
  },
  {
   "cell_type": "code",
   "execution_count": null,
   "id": "4056e768",
   "metadata": {},
   "outputs": [],
   "source": []
  }
 ],
 "metadata": {
  "kernelspec": {
   "display_name": "Python 3 (ipykernel)",
   "language": "python",
   "name": "python3"
  },
  "language_info": {
   "codemirror_mode": {
    "name": "ipython",
    "version": 3
   },
   "file_extension": ".py",
   "mimetype": "text/x-python",
   "name": "python",
   "nbconvert_exporter": "python",
   "pygments_lexer": "ipython3",
   "version": "3.8.18"
  }
 },
 "nbformat": 4,
 "nbformat_minor": 5
}
