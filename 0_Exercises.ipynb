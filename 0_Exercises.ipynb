{
 "cells": [
  {
   "cell_type": "markdown",
   "id": "529d91ae",
   "metadata": {},
   "source": [
    "# Exercise 00\n",
    "Write a bit of code that prints _Introduction to Programming_ to the console and execute the cell"
   ]
  },
  {
   "cell_type": "code",
   "execution_count": 1,
   "id": "98711beb",
   "metadata": {},
   "outputs": [
    {
     "name": "stdout",
     "output_type": "stream",
     "text": [
      "Introduction to Programming\n"
     ]
    }
   ],
   "source": [
    "print(\"Introduction to Programming\")"
   ]
  },
  {
   "cell_type": "markdown",
   "id": "63ad5023",
   "metadata": {},
   "source": [
    "-----------------------------------------------------------------------------\n",
    "# Exercise 01\n",
    "Hello World is traditionally the first program anyone writes. It is\n",
    "very simple and the only thing it should do is print Hello World! to the\n",
    "terminal window.\n",
    "Create a file called HelloWorld.py and edit the contents so it prints Hello World! to the terminal and execute it using the command line."
   ]
  },
  {
   "cell_type": "markdown",
   "id": "a4a7c4c2",
   "metadata": {},
   "source": [
    "-----------------------------------------------------------------------------\n",
    "# Exercise 02\n",
    "Write some code to print your name, email, and age on separate lines. For each element first assign it to a variable and use the variable to print. \n",
    "\n",
    "Bonus: try to create the print statement for all variable in one line of code. (hint: '\\n' is the character for a new line)"
   ]
  },
  {
   "cell_type": "code",
   "execution_count": 18,
   "id": "fc8fface",
   "metadata": {},
   "outputs": [
    {
     "name": "stdout",
     "output_type": "stream",
     "text": [
      "name:Victor Meng\n",
      "email:ucbvyme@ucl.ac.uk\n",
      "age:22\n"
     ]
    }
   ],
   "source": [
    "myName = \"Victor Meng\"\n",
    "myEmail = \"ucbvyme@ucl.ac.uk\"\n",
    "myAge = \"22\"\n",
    "print(\"name:\" + myName + \"\\n\" + \"email:\" + myEmail + \"\\n\" + \"age:\" + myAge)"
   ]
  },
  {
   "cell_type": "code",
   "execution_count": 25,
   "id": "7870ab89",
   "metadata": {},
   "outputs": [
    {
     "name": "stdout",
     "output_type": "stream",
     "text": [
      "name: Victor Meng \n",
      "email: ucbvyme@ucl.ac.uk \n",
      "age:22\n"
     ]
    }
   ],
   "source": [
    "Name = \"Victor Meng\"\n",
    "Email = \"ucbvyme@ucl.ac.uk\"\n",
    "Age = 22\n",
    "print(f\"name: {Name} \\nemail: {Email} \\nage:{Age}\")"
   ]
  },
  {
   "cell_type": "markdown",
   "id": "0dd1c1d1",
   "metadata": {},
   "source": [
    "-----------------------------------------------------------------------------\n",
    "# Exercise 03\n",
    "Print the numbers 0, 178, -21, 2938 divided by 49, 436 multiplied with 9948 and 12 to the power of 20\n",
    "\n",
    "(Hint: Look up the documentation of basic arithmetic operators)"
   ]
  },
  {
   "cell_type": "code",
   "execution_count": 28,
   "id": "f3d5d009",
   "metadata": {},
   "outputs": [
    {
     "name": "stdout",
     "output_type": "stream",
     "text": [
      "0\n",
      "178\n",
      "-21\n",
      "59.95918367346939\n",
      "4337328\n",
      "3833759992447475122176\n"
     ]
    }
   ],
   "source": [
    "print(0)\n",
    "print(178)\n",
    "print(-21)\n",
    "print(2938/49)\n",
    "print(436*9948)\n",
    "print(12**20)"
   ]
  },
  {
   "cell_type": "markdown",
   "id": "1f151455",
   "metadata": {},
   "source": [
    "-----------------------------------------------------------------------------\n",
    "# Exercise 04\n",
    "Print sin(200), cos(100), tan($\\pi$/4)\n",
    "\n",
    "(Hint: Look up for how to use trigonometric function, and how to get the value of $\\pi$.)"
   ]
  },
  {
   "cell_type": "code",
   "execution_count": 39,
   "id": "d0e37690",
   "metadata": {},
   "outputs": [
    {
     "name": "stdout",
     "output_type": "stream",
     "text": [
      "-0.34202014332566866\n",
      "-0.1736481776669303\n",
      "0.9999999999999999\n"
     ]
    }
   ],
   "source": [
    "import math\n",
    "\n",
    "\n",
    "print(math.sin(math.radians(200)))\n",
    "print(math.cos(math.radians(100)))\n",
    "print(math.tan(math.pi/4))"
   ]
  },
  {
   "cell_type": "code",
   "execution_count": 42,
   "id": "835c982d",
   "metadata": {},
   "outputs": [
    {
     "name": "stdout",
     "output_type": "stream",
     "text": [
      "-0.34202014332566866\n",
      "-0.1736481776669303\n",
      "0.9999999999999999\n"
     ]
    }
   ],
   "source": [
    "from math import *\n",
    "\n",
    "print(sin(radians(200)))\n",
    "print(cos(radians(100)))\n",
    "print(tan(pi/4))"
   ]
  },
  {
   "cell_type": "code",
   "execution_count": 44,
   "id": "636f285c",
   "metadata": {},
   "outputs": [
    {
     "name": "stdout",
     "output_type": "stream",
     "text": [
      "-0.34202014332566866\n",
      "-0.1736481776669303\n",
      "0.9999999999999999\n"
     ]
    }
   ],
   "source": [
    "from math import sin,cos,tan,radians\n",
    "print(sin(radians(200)))\n",
    "print(cos(radians(100)))\n",
    "print(tan(pi/4))"
   ]
  },
  {
   "cell_type": "markdown",
   "id": "9d026820",
   "metadata": {},
   "source": [
    "-----------------------------------------------------------------------------\n",
    "# Exercise 05\n",
    "Write a program to read your first and last names from the console seperately, and then print them on the console together, separated by a space."
   ]
  },
  {
   "cell_type": "code",
   "execution_count": 57,
   "id": "4c7217e0",
   "metadata": {},
   "outputs": [
    {
     "name": "stdout",
     "output_type": "stream",
     "text": [
      "Please input your first name:Victor\n",
      "Pleast input your last name:Mneg\n",
      "Victor Mneg\n"
     ]
    }
   ],
   "source": [
    "Firstname = input(\"Please input your first name:\")\n",
    "Lastname = input(\"Pleast input your last name:\")\n",
    "print(Firstname + \" \" + Lastname)"
   ]
  },
  {
   "cell_type": "code",
   "execution_count": 3,
   "id": "88cb20b2",
   "metadata": {},
   "outputs": [
    {
     "name": "stdout",
     "output_type": "stream",
     "text": [
      "Victor\n",
      "Meng\n",
      "Victor Meng\n"
     ]
    }
   ],
   "source": [
    "Firstname = input()\n",
    "Lastname = input()\n",
    "print(Firstname, Lastname)"
   ]
  },
  {
   "cell_type": "code",
   "execution_count": 5,
   "id": "76b85174",
   "metadata": {},
   "outputs": [
    {
     "name": "stdout",
     "output_type": "stream",
     "text": [
      "Please input your firstname:Victor\n",
      "Please input your lastname:Meng\n",
      "Victor Meng\n"
     ]
    }
   ],
   "source": [
    "Firstname = input(\"Please input your firstname:\")\n",
    "Lastname = input(\"Please input your lastname:\")\n",
    "print(Firstname, Lastname)"
   ]
  },
  {
   "cell_type": "markdown",
   "id": "e83fa346",
   "metadata": {},
   "source": [
    "-----------------------------------------------------------------------------\n",
    "# Exercise 06\n",
    "Write a program that determines whether a number given as user input is positive or negative\n",
    " \n",
    "You will need to convert the console input from a string to a number first!"
   ]
  },
  {
   "cell_type": "code",
   "execution_count": 13,
   "id": "ecd924c2",
   "metadata": {},
   "outputs": [
    {
     "name": "stdout",
     "output_type": "stream",
     "text": [
      "Enter a number:2\n",
      "The input number is positive\n"
     ]
    }
   ],
   "source": [
    "n = float(input(\"Enter a number:\"))\n",
    "if n > 0:\n",
    "    print(\"The input number is positive\")\n",
    "elif n < 0:\n",
    "     print(\"The input number is negative\")\n",
    "else:\n",
    "    print(\"zero\")"
   ]
  },
  {
   "cell_type": "markdown",
   "id": "2a192596",
   "metadata": {},
   "source": [
    "-----------------------------------------------------------------------------\n",
    "# Exercise 07\n",
    "Write a program that picks a random number between 1-20 and makes the user guess until they get the number right. Then print a congratulations message\n",
    "- (Find out yourself how to generate a random integer)\n",
    "- Bonus: make the user choose the range within which they have to guess\n",
    "- Bonus: keep track of how many guesses were made and print this at the end"
   ]
  },
  {
   "cell_type": "code",
   "execution_count": 38,
   "id": "70358dd3",
   "metadata": {},
   "outputs": [
    {
     "name": "stdout",
     "output_type": "stream",
     "text": [
      "makes a guess until they get the number right\n"
     ]
    },
    {
     "ename": "TypeError",
     "evalue": "'int' object is not iterable",
     "output_type": "error",
     "traceback": [
      "\u001b[1;31m---------------------------------------------------------------------------\u001b[0m",
      "\u001b[1;31mTypeError\u001b[0m                                 Traceback (most recent call last)",
      "Cell \u001b[1;32mIn[38], line 7\u001b[0m\n\u001b[0;32m      3\u001b[0m number_of_guess \u001b[38;5;241m=\u001b[39m \u001b[38;5;241m0\u001b[39m\n\u001b[0;32m      4\u001b[0m \u001b[38;5;28mprint\u001b[39m(\u001b[38;5;124m\"\u001b[39m\u001b[38;5;124mmakes a guess until they get the number right\u001b[39m\u001b[38;5;124m\"\u001b[39m)\n\u001b[1;32m----> 7\u001b[0m \u001b[38;5;28;01mfor\u001b[39;00m n \u001b[38;5;129;01min\u001b[39;00m random\u001b[38;5;241m.\u001b[39mrandint(\u001b[38;5;241m1\u001b[39m,\u001b[38;5;241m20\u001b[39m):\n\u001b[0;32m      8\u001b[0m     \u001b[38;5;28mprint\u001b[39m(\u001b[38;5;124m\"\u001b[39m\u001b[38;5;124mmakes a guess until they get the number right\u001b[39m\u001b[38;5;124m\"\u001b[39m)\n\u001b[0;32m      9\u001b[0m     guess_number \u001b[38;5;241m=\u001b[39m \u001b[38;5;28mint\u001b[39m(\u001b[38;5;28minput\u001b[39m(\u001b[38;5;124m\"\u001b[39m\u001b[38;5;124mmake a guess:\u001b[39m\u001b[38;5;124m\"\u001b[39m))\n",
      "\u001b[1;31mTypeError\u001b[0m: 'int' object is not iterable"
     ]
    }
   ],
   "source": [
    "import random \n",
    "random_number = random.randint(1,20)\n",
    "number_of_guess = 0\n",
    "print(\"makes a guess until they get the number right\")\n",
    "\n",
    "\n",
    "for n in random.randint(1,20):\n",
    "    print(\"makes a guess until they get the number right\")\n",
    "    guess_number = int(input(\"make a guess:\"))\n",
    "    while not guess_number == random_number:\n",
    "    \n",
    "      \n",
    "        number_of_guess += 1\n",
    "        print(\"Sorry! Guess it again.\")\n",
    "        \n",
    "    else:\n",
    "\n",
    "        \n",
    "        print(f\"congratulation! You guess it in {number_of_guess}\")\n",
    "        \n",
    "\n",
    "\n"
   ]
  },
  {
   "cell_type": "code",
   "execution_count": 29,
   "id": "cd04dec7",
   "metadata": {},
   "outputs": [
    {
     "name": "stdout",
     "output_type": "stream",
     "text": [
      "set your lower range: 1\n",
      "set your upper range: 5\n",
      "make a guess3\n",
      "make a guess2\n",
      "sorry! Try it again.\n",
      "make a guess5\n",
      "sorry! Try it again.\n",
      "make a guess2\n",
      "sorry! Try it again.\n",
      "make a guess7\n",
      "sorry! Try it again.\n",
      "make a guess5\n",
      "sorry! Try it again.\n",
      "make a guess4\n",
      "sorry! Try it again.\n",
      "make a guess1\n",
      "sorry! Try it again.\n",
      "congratulation! You guess it in 8\n"
     ]
    }
   ],
   "source": [
    "import random \n",
    "\n",
    "lower_range = int(input(\"set your lower range: \"))\n",
    "upper_range = int(input(\"set your upper range: \"))\n",
    "range_number = random.randint(lower_range,upper_range)\n",
    "\n",
    "guess_number = lower_range-1\n",
    "number_of_guess = 0\n",
    "\n",
    "while not range_number == guess_number:\n",
    "    \n",
    "    number_of_guess += 1\n",
    "    guess_number = int(input(\"make a guess\"))\n",
    "    \n",
    "    if not number_of_guess == range_number:\n",
    "        print(\"sorry! Try it again.\")\n",
    "    \n",
    "print(f\"congratulation! You guess it in {number_of_guess}\")"
   ]
  },
  {
   "cell_type": "markdown",
   "id": "d53b9c07",
   "metadata": {},
   "source": [
    "## -----------------------------------------------------------------------------\n",
    "# Exercise 08\n",
    "Ask a sentence as input, then print the words in alphabetical order.\n",
    "Hint: look up how to split up a string"
   ]
  },
  {
   "cell_type": "code",
   "execution_count": 41,
   "id": "b6524cf5",
   "metadata": {},
   "outputs": [
    {
     "name": "stdout",
     "output_type": "stream",
     "text": [
      "enter a sentence:Ask a sentence as input, then print the words in alphabetical order\n",
      "['a', 'alphabetical', 'as', 'ask', 'in', 'input,', 'order', 'print', 'sentence', 'the', 'then', 'words']\n"
     ]
    }
   ],
   "source": [
    "sentence = input(\"enter a sentence:\")\n",
    "sentence_lower = sentence.lower()\n",
    "n = sentence_lower.split(\" \")\n",
    "w = sorted(n)\n",
    "print(w)"
   ]
  },
  {
   "cell_type": "code",
   "execution_count": 45,
   "id": "da759531",
   "metadata": {},
   "outputs": [
    {
     "name": "stdout",
     "output_type": "stream",
     "text": [
      "enter a sentence:Ask a sentence as input, then print the words in alphabetical order\n",
      "['a', 'alphabetical', 'as', 'Ask', 'in', 'input,', 'order', 'print', 'sentence', 'the', 'then', 'words']\n"
     ]
    }
   ],
   "source": [
    "sentence = input(\"enter a sentence:\")\n",
    "n = sentence.split()\n",
    "n.sort(key = lambda x:x.lower())\n",
    "print(n)"
   ]
  },
  {
   "cell_type": "markdown",
   "id": "09a7b060",
   "metadata": {},
   "source": [
    "-----------------------------------------------------------------------------\n",
    "# Exercise 09\n",
    "Write a program using for loops to print a christmas tree of x lines high\n",
    "specified by the user.\n",
    "(use for loops)\n",
    "so for instance, a chrismas tree of 4 high should looks like this:\n",
    "\n",
    "```\n",
    "\n",
    "    *\n",
    "   ***\n",
    "  *****\n",
    " *******\n",
    "    |\n",
    "\n",
    "```\n",
    "\n",
    "hint: first combine strings into a variable before printing"
   ]
  },
  {
   "cell_type": "code",
   "execution_count": 55,
   "id": "5150f7a4",
   "metadata": {},
   "outputs": [
    {
     "name": "stdout",
     "output_type": "stream",
     "text": [
      "Pleast input your tree's height: 8\n",
      "       *\n",
      "      ***\n",
      "     *****\n",
      "    *******\n",
      "   *********\n",
      "  ***********\n",
      " *************\n",
      "***************\n",
      "       /\n"
     ]
    }
   ],
   "source": [
    "height = int(input(\"Pleast input your tree's height: \"))\n",
    "for i in range(1,height+1):\n",
    "    space = \" \" *(height-i)\n",
    "    star = \"*\" *(i*2-1)\n",
    "    print(space + star)\n",
    "print(\" \"*(height-1) + \"/\")"
   ]
  },
  {
   "cell_type": "markdown",
   "id": "07f67531",
   "metadata": {},
   "source": [
    "-----------------------------------------------------------------------------\n",
    "# Exercise 10\n",
    "Write a piece of code that prints the first $n$ numbers of the padovan sequence"
   ]
  },
  {
   "cell_type": "code",
   "execution_count": 56,
   "id": "d301c61b",
   "metadata": {},
   "outputs": [
    {
     "name": "stdout",
     "output_type": "stream",
     "text": [
      "20\n",
      "1\n",
      "1\n",
      "1\n",
      "2\n",
      "2\n",
      "3\n",
      "4\n",
      "5\n",
      "7\n",
      "9\n",
      "12\n",
      "16\n",
      "21\n",
      "28\n",
      "37\n",
      "49\n",
      "65\n",
      "86\n",
      "114\n",
      "151\n"
     ]
    }
   ],
   "source": [
    "p0 = 1\n",
    "p1 = 1\n",
    "p2 = 1\n",
    "n = int(input())\n",
    "\n",
    "for i in range(n):\n",
    "    print (p0)\n",
    "    m = p1 + p0\n",
    "    p0 = p1\n",
    "    p1 = p2\n",
    "    p2 = m\n",
    "    "
   ]
  },
  {
   "cell_type": "code",
   "execution_count": null,
   "id": "4c013e1e",
   "metadata": {},
   "outputs": [],
   "source": []
  }
 ],
 "metadata": {
  "kernelspec": {
   "display_name": "Python 3 (ipykernel)",
   "language": "python",
   "name": "python3"
  },
  "language_info": {
   "codemirror_mode": {
    "name": "ipython",
    "version": 3
   },
   "file_extension": ".py",
   "mimetype": "text/x-python",
   "name": "python",
   "nbconvert_exporter": "python",
   "pygments_lexer": "ipython3",
   "version": "3.8.18"
  }
 },
 "nbformat": 4,
 "nbformat_minor": 5
}
