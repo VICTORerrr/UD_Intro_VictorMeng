{
 "cells": [
  {
   "cell_type": "markdown",
   "id": "38e188a5",
   "metadata": {},
   "source": [
    "# Exercise 00\n",
    "Write a piece of code that allocates a list of 20 integers and initializes each element by its index multiplied by 5. Print the result."
   ]
  },
  {
   "cell_type": "code",
   "execution_count": 4,
   "id": "01aa4f35",
   "metadata": {},
   "outputs": [
    {
     "name": "stdout",
     "output_type": "stream",
     "text": [
      "[0, 5, 10, 15, 20, 25, 30, 35, 40, 45, 50, 55, 60, 65, 70, 75, 80, 85, 90, 95]\n"
     ]
    }
   ],
   "source": [
    "myList = []\n",
    "for i in range(20):\n",
    "    myList.append(i*5)\n",
    "print(myList)"
   ]
  },
  {
   "cell_type": "markdown",
   "id": "529d91ae",
   "metadata": {},
   "source": [
    "# Exercise 01\n",
    "Define a function that takes an integer as input, prints  all integers that it is divisable by, and returns the largest one."
   ]
  },
  {
   "cell_type": "code",
   "execution_count": 32,
   "id": "da11925c",
   "metadata": {},
   "outputs": [],
   "source": [
    "def x(n):\n",
    "    f = 1\n",
    "    for i in range(1,int(n/2)+1):\n",
    "        if n%i==0:\n",
    "            f = i\n",
    "            print(i)\n",
    "    return f"
   ]
  },
  {
   "cell_type": "code",
   "execution_count": 33,
   "id": "57735a02",
   "metadata": {},
   "outputs": [
    {
     "name": "stdout",
     "output_type": "stream",
     "text": [
      "1\n",
      "2\n",
      "4\n",
      "5\n",
      "10\n"
     ]
    },
    {
     "data": {
      "text/plain": [
       "10"
      ]
     },
     "execution_count": 33,
     "metadata": {},
     "output_type": "execute_result"
    }
   ],
   "source": [
    "x(20)"
   ]
  },
  {
   "cell_type": "markdown",
   "id": "cfbe30d4",
   "metadata": {},
   "source": [
    "# Exercise 02\n",
    "- create a dictionary with 6 keys and values of your choice\n",
    "- write a function that takes a dictionary and a value as input and returns whether the value occurs as a key in the dictionary\n",
    "- write a function that takes a dictionary as input, and returns the dictionary but the keys are swapped with their values (resolve the issue if a value occurs twice!)"
   ]
  },
  {
   "cell_type": "code",
   "execution_count": 5,
   "id": "7ffae195",
   "metadata": {},
   "outputs": [],
   "source": [
    "my_dict = {'name': 'Victor', 'age': 22, 'location': 'london','color':'red','drink':'wine','cup':'blue'}"
   ]
  },
  {
   "cell_type": "code",
   "execution_count": 6,
   "id": "4060baf3",
   "metadata": {},
   "outputs": [
    {
     "name": "stdout",
     "output_type": "stream",
     "text": [
      "{'name': 'Victor', 'age': 22, 'location': 'london', 'color': 'red', 'drink': 'wine', 'cup': 'blue'}\n"
     ]
    }
   ],
   "source": [
    "print(my_dict)"
   ]
  },
  {
   "cell_type": "code",
   "execution_count": 7,
   "id": "81ee8608",
   "metadata": {},
   "outputs": [],
   "source": [
    "def functiondictionary (x,y):\n",
    "    for e in x.keys():\n",
    "        if y == e:\n",
    "            return True\n",
    "    return False\n",
    "    "
   ]
  },
  {
   "cell_type": "code",
   "execution_count": 10,
   "id": "034aba09",
   "metadata": {},
   "outputs": [
    {
     "name": "stdout",
     "output_type": "stream",
     "text": [
      "True\n"
     ]
    }
   ],
   "source": [
    "print(functiondictionary(my_dict,'name'))"
   ]
  },
  {
   "cell_type": "code",
   "execution_count": 15,
   "id": "d53ffa57",
   "metadata": {},
   "outputs": [],
   "source": [
    "def f_two (n):\n",
    "    Dict_2 = {}\n",
    "    for k in n.keys():\n",
    "        Dict_2[n[k]] = k\n",
    "    \n",
    "    return Dict_2\n",
    "    \n",
    "    "
   ]
  },
  {
   "cell_type": "code",
   "execution_count": 18,
   "id": "be6d67ca",
   "metadata": {},
   "outputs": [
    {
     "data": {
      "text/plain": [
       "{'Victor': 'name',\n",
       " 22: 'age',\n",
       " 'london': 'location',\n",
       " 'red': 'color',\n",
       " 'wine': 'drink',\n",
       " 'blue': 'cup'}"
      ]
     },
     "execution_count": 18,
     "metadata": {},
     "output_type": "execute_result"
    }
   ],
   "source": [
    "f_two (my_dict)"
   ]
  },
  {
   "cell_type": "markdown",
   "id": "b4b4e426",
   "metadata": {},
   "source": [
    "# Exercise 03\n",
    "Define a function that creates a dictionary of the first n fibonacci numbers as values paired with their indices as keys. "
   ]
  },
  {
   "cell_type": "code",
   "execution_count": 70,
   "id": "4b6c5c25",
   "metadata": {},
   "outputs": [],
   "source": [
    "def fibonacci_n(num):\n",
    "    num = int(num)\n",
    "    n1 = 0\n",
    "    n2 = 1\n",
    "    while n1<num:\n",
    "        m = n1 + n2\n",
    "        n1 = n2\n",
    "        n2 = m\n",
    "    return n1"
   ]
  },
  {
   "cell_type": "code",
   "execution_count": 69,
   "id": "30422bf0",
   "metadata": {},
   "outputs": [
    {
     "name": "stdout",
     "output_type": "stream",
     "text": [
      "input you number: 5\n"
     ]
    },
    {
     "ename": "TypeError",
     "evalue": "fibonacci_n() missing 1 required positional argument: 'n1'",
     "output_type": "error",
     "traceback": [
      "\u001b[1;31m---------------------------------------------------------------------------\u001b[0m",
      "\u001b[1;31mTypeError\u001b[0m                                 Traceback (most recent call last)",
      "Cell \u001b[1;32mIn[69], line 2\u001b[0m\n\u001b[0;32m      1\u001b[0m user_input \u001b[38;5;241m=\u001b[39m \u001b[38;5;28minput\u001b[39m(\u001b[38;5;124m\"\u001b[39m\u001b[38;5;124minput you number: \u001b[39m\u001b[38;5;124m\"\u001b[39m)\n\u001b[1;32m----> 2\u001b[0m num1 \u001b[38;5;241m=\u001b[39m \u001b[38;5;28mint\u001b[39m(\u001b[43mfibonacci_n\u001b[49m\u001b[43m(\u001b[49m\u001b[43muser_input\u001b[49m\u001b[43m)\u001b[49m)\n\u001b[0;32m      3\u001b[0m \u001b[38;5;28mprint\u001b[39m(num1,fibonacci_n(n1))\n",
      "\u001b[1;31mTypeError\u001b[0m: fibonacci_n() missing 1 required positional argument: 'n1'"
     ]
    }
   ],
   "source": [
    "user_input = input(\"input you number: \")\n",
    "num1 = int(fibonacci_n(user_input))\n",
    "print(num1,fibonacci_n(n1))"
   ]
  }
 ],
 "metadata": {
  "kernelspec": {
   "display_name": "Python 3 (ipykernel)",
   "language": "python",
   "name": "python3"
  },
  "language_info": {
   "codemirror_mode": {
    "name": "ipython",
    "version": 3
   },
   "file_extension": ".py",
   "mimetype": "text/x-python",
   "name": "python",
   "nbconvert_exporter": "python",
   "pygments_lexer": "ipython3",
   "version": "3.8.18"
  }
 },
 "nbformat": 4,
 "nbformat_minor": 5
}
